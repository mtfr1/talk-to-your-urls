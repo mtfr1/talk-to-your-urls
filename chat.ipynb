{
 "cells": [
  {
   "cell_type": "code",
   "execution_count": null,
   "metadata": {},
   "outputs": [],
   "source": [
    "from app.rag import RagPipeline\n",
    "from app.config import settings\n",
    "\n",
    "\n",
    "assert settings.GOOGLE_API_KEY, \"GOOGLE_API_KEY is not set in the environment variables\"\n",
    "\n",
    "rag_pipeline = RagPipeline()"
   ]
  },
  {
   "cell_type": "code",
   "execution_count": null,
   "metadata": {},
   "outputs": [],
   "source": [
    "from langchain_core.messages import HumanMessage, AIMessage\n",
    "\n",
    "history = []\n",
    "\n",
    "async def simulate_chat():\n",
    "    print(\"Type 'exit' to quit the chat.\")\n",
    "    while True:\n",
    "        url = input(\"Enter a URL to index (or type 'exit' to quit): \").strip()\n",
    "        if url.lower() == \"exit\":\n",
    "            print(\"Exiting chat!\")\n",
    "            break\n",
    "        print(f\"Indexing URL {url}...\")\n",
    "        await rag_pipeline.index_url(url)\n",
    "        print(\"URL indexed!\")\n",
    "\n",
    "        while True:\n",
    "            question = input(\"Ask a question about the indexed content ('back' to index a new URL or 'exit' to quit): \").strip()\n",
    "            if question.lower() == \"back\":\n",
    "                break\n",
    "            elif question.lower() == \"exit\":\n",
    "                print(\"Exiting chat!\")\n",
    "                return\n",
    "\n",
    "            print(\"Question: \", question)\n",
    "            answer = await rag_pipeline.ask_question(question, url, chat_history=history)\n",
    "            history.append(HumanMessage(content=question))\n",
    "            history.append(AIMessage(content=answer))\n",
    "            print(f\"Answer: {answer}\")"
   ]
  },
  {
   "cell_type": "code",
   "execution_count": null,
   "metadata": {},
   "outputs": [],
   "source": [
    "await simulate_chat()"
   ]
  }
 ],
 "metadata": {
  "kernelspec": {
   "display_name": ".venv",
   "language": "python",
   "name": "python3"
  },
  "language_info": {
   "codemirror_mode": {
    "name": "ipython",
    "version": 3
   },
   "file_extension": ".py",
   "mimetype": "text/x-python",
   "name": "python",
   "nbconvert_exporter": "python",
   "pygments_lexer": "ipython3",
   "version": "3.13.2"
  }
 },
 "nbformat": 4,
 "nbformat_minor": 2
}
